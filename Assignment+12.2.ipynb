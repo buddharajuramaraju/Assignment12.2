{
 "cells": [
  {
   "cell_type": "markdown",
   "metadata": {},
   "source": [
    "#### Problem Statement\n",
    "\n",
    "In this assignment students have to make ARIMA model over shampoo sales data and\n",
    "check the MSE between predicted and actual value.\n",
    "Student can download data in .csv format from the following link:\n",
    "https://datamarket.com/data/set/22r0/sales-of-shampoo-over-a-three-year-period#!ds\n",
    "=22r0&display=line\n",
    "Hint:\n",
    "Following is the command import packages and data\n",
    "from pandas import read_csv\n",
    "from pandas import datetime\n",
    "from matplotlib import pyplot\n",
    "from statsmodels.tsa.arima_model import ARIMA\n",
    "from sklearn.metrics import mean_squared_error\n",
    "def parser(x):\n",
    "return datetime.strptime('190'+x, '%Y-%m')\n",
    "series = read_csv('shampoo-sales.csv', header=0, parse_dates=[0], index_col=0,\n",
    "squeeze=True, date_parser=parser)"
   ]
  },
  {
   "cell_type": "markdown",
   "metadata": {},
   "source": [
    "### Import Required Modules "
   ]
  },
  {
   "cell_type": "code",
   "execution_count": 82,
   "metadata": {},
   "outputs": [],
   "source": [
    "import pandas as pd\n",
    "from pandas import read_csv\n",
    "from pandas import datetime\n",
    "from matplotlib import pyplot\n",
    "from pandas.tools.plotting import autocorrelation_plot\n",
    "from statsmodels.tsa.arima_model import ARIMA\n",
    "from sklearn.metrics import mean_squared_error\n",
    "from bokeh.plotting import figure, show,output_notebook"
   ]
  },
  {
   "cell_type": "code",
   "execution_count": 73,
   "metadata": {
    "collapsed": true
   },
   "outputs": [],
   "source": [
    "def parser(x):\n",
    "    #print(x)\n",
    "    return datetime.strptime('190'+str(x), '%Y-%m')"
   ]
  },
  {
   "cell_type": "code",
   "execution_count": 74,
   "metadata": {},
   "outputs": [],
   "source": [
    "series = read_csv('sales-of-shampoo-over-a-three-ye.csv', header=0, parse_dates=[0], index_col=0,squeeze=True, date_parser=parser)"
   ]
  },
  {
   "cell_type": "code",
   "execution_count": 75,
   "metadata": {},
   "outputs": [
    {
     "data": {
      "text/plain": [
       "Month\n",
       "1901-01-01    266.0\n",
       "1901-02-01    145.9\n",
       "1901-03-01    183.1\n",
       "1901-04-01    119.3\n",
       "1901-05-01    180.3\n",
       "Name: Sales, dtype: float64"
      ]
     },
     "execution_count": 75,
     "metadata": {},
     "output_type": "execute_result"
    }
   ],
   "source": [
    "series.head()"
   ]
  },
  {
   "cell_type": "code",
   "execution_count": 76,
   "metadata": {},
   "outputs": [
    {
     "data": {
      "text/html": [
       "\n",
       "    <div class=\"bk-root\">\n",
       "        <a href=\"https://bokeh.pydata.org\" target=\"_blank\" class=\"bk-logo bk-logo-small bk-logo-notebook\"></a>\n",
       "        <span id=\"159075b2-70f8-490d-942c-5bd7c2a99076\">Loading BokehJS ...</span>\n",
       "    </div>"
      ]
     },
     "metadata": {},
     "output_type": "display_data"
    },
    {
     "data": {
      "application/javascript": [
       "\n",
       "(function(root) {\n",
       "  function now() {\n",
       "    return new Date();\n",
       "  }\n",
       "\n",
       "  var force = true;\n",
       "\n",
       "  if (typeof (root._bokeh_onload_callbacks) === \"undefined\" || force === true) {\n",
       "    root._bokeh_onload_callbacks = [];\n",
       "    root._bokeh_is_loading = undefined;\n",
       "  }\n",
       "\n",
       "  var JS_MIME_TYPE = 'application/javascript';\n",
       "  var HTML_MIME_TYPE = 'text/html';\n",
       "  var EXEC_MIME_TYPE = 'application/vnd.bokehjs_exec.v0+json';\n",
       "  var CLASS_NAME = 'output_bokeh rendered_html';\n",
       "\n",
       "  /**\n",
       "   * Render data to the DOM node\n",
       "   */\n",
       "  function render(props, node) {\n",
       "    var script = document.createElement(\"script\");\n",
       "    node.appendChild(script);\n",
       "  }\n",
       "\n",
       "  /**\n",
       "   * Handle when an output is cleared or removed\n",
       "   */\n",
       "  function handleClearOutput(event, handle) {\n",
       "    var cell = handle.cell;\n",
       "\n",
       "    var id = cell.output_area._bokeh_element_id;\n",
       "    var server_id = cell.output_area._bokeh_server_id;\n",
       "    // Clean up Bokeh references\n",
       "    if (id !== undefined) {\n",
       "      Bokeh.index[id].model.document.clear();\n",
       "      delete Bokeh.index[id];\n",
       "    }\n",
       "\n",
       "    if (server_id !== undefined) {\n",
       "      // Clean up Bokeh references\n",
       "      var cmd = \"from bokeh.io.state import curstate; print(curstate().uuid_to_server['\" + server_id + \"'].get_sessions()[0].document.roots[0]._id)\";\n",
       "      cell.notebook.kernel.execute(cmd, {\n",
       "        iopub: {\n",
       "          output: function(msg) {\n",
       "            var element_id = msg.content.text.trim();\n",
       "            Bokeh.index[element_id].model.document.clear();\n",
       "            delete Bokeh.index[element_id];\n",
       "          }\n",
       "        }\n",
       "      });\n",
       "      // Destroy server and session\n",
       "      var cmd = \"import bokeh.io.notebook as ion; ion.destroy_server('\" + server_id + \"')\";\n",
       "      cell.notebook.kernel.execute(cmd);\n",
       "    }\n",
       "  }\n",
       "\n",
       "  /**\n",
       "   * Handle when a new output is added\n",
       "   */\n",
       "  function handleAddOutput(event, handle) {\n",
       "    var output_area = handle.output_area;\n",
       "    var output = handle.output;\n",
       "\n",
       "    // limit handleAddOutput to display_data with EXEC_MIME_TYPE content only\n",
       "    if ((output.output_type != \"display_data\") || (!output.data.hasOwnProperty(EXEC_MIME_TYPE))) {\n",
       "      return\n",
       "    }\n",
       "\n",
       "    var toinsert = output_area.element.find(`.${CLASS_NAME.split(' ')[0]}`);\n",
       "\n",
       "    if (output.metadata[EXEC_MIME_TYPE][\"id\"] !== undefined) {\n",
       "      toinsert[0].firstChild.textContent = output.data[JS_MIME_TYPE];\n",
       "      // store reference to embed id on output_area\n",
       "      output_area._bokeh_element_id = output.metadata[EXEC_MIME_TYPE][\"id\"];\n",
       "    }\n",
       "    if (output.metadata[EXEC_MIME_TYPE][\"server_id\"] !== undefined) {\n",
       "      var bk_div = document.createElement(\"div\");\n",
       "      bk_div.innerHTML = output.data[HTML_MIME_TYPE];\n",
       "      var script_attrs = bk_div.children[0].attributes;\n",
       "      for (var i = 0; i < script_attrs.length; i++) {\n",
       "        toinsert[0].firstChild.setAttribute(script_attrs[i].name, script_attrs[i].value);\n",
       "      }\n",
       "      // store reference to server id on output_area\n",
       "      output_area._bokeh_server_id = output.metadata[EXEC_MIME_TYPE][\"server_id\"];\n",
       "    }\n",
       "  }\n",
       "\n",
       "  function register_renderer(events, OutputArea) {\n",
       "\n",
       "    function append_mime(data, metadata, element) {\n",
       "      // create a DOM node to render to\n",
       "      var toinsert = this.create_output_subarea(\n",
       "        metadata,\n",
       "        CLASS_NAME,\n",
       "        EXEC_MIME_TYPE\n",
       "      );\n",
       "      this.keyboard_manager.register_events(toinsert);\n",
       "      // Render to node\n",
       "      var props = {data: data, metadata: metadata[EXEC_MIME_TYPE]};\n",
       "      render(props, toinsert[0]);\n",
       "      element.append(toinsert);\n",
       "      return toinsert\n",
       "    }\n",
       "\n",
       "    /* Handle when an output is cleared or removed */\n",
       "    events.on('clear_output.CodeCell', handleClearOutput);\n",
       "    events.on('delete.Cell', handleClearOutput);\n",
       "\n",
       "    /* Handle when a new output is added */\n",
       "    events.on('output_added.OutputArea', handleAddOutput);\n",
       "\n",
       "    /**\n",
       "     * Register the mime type and append_mime function with output_area\n",
       "     */\n",
       "    OutputArea.prototype.register_mime_type(EXEC_MIME_TYPE, append_mime, {\n",
       "      /* Is output safe? */\n",
       "      safe: true,\n",
       "      /* Index of renderer in `output_area.display_order` */\n",
       "      index: 0\n",
       "    });\n",
       "  }\n",
       "\n",
       "  // register the mime type if in Jupyter Notebook environment and previously unregistered\n",
       "  if (root.Jupyter !== undefined) {\n",
       "    var events = require('base/js/events');\n",
       "    var OutputArea = require('notebook/js/outputarea').OutputArea;\n",
       "\n",
       "    if (OutputArea.prototype.mime_types().indexOf(EXEC_MIME_TYPE) == -1) {\n",
       "      register_renderer(events, OutputArea);\n",
       "    }\n",
       "  }\n",
       "\n",
       "  \n",
       "  if (typeof (root._bokeh_timeout) === \"undefined\" || force === true) {\n",
       "    root._bokeh_timeout = Date.now() + 5000;\n",
       "    root._bokeh_failed_load = false;\n",
       "  }\n",
       "\n",
       "  var NB_LOAD_WARNING = {'data': {'text/html':\n",
       "     \"<div style='background-color: #fdd'>\\n\"+\n",
       "     \"<p>\\n\"+\n",
       "     \"BokehJS does not appear to have successfully loaded. If loading BokehJS from CDN, this \\n\"+\n",
       "     \"may be due to a slow or bad network connection. Possible fixes:\\n\"+\n",
       "     \"</p>\\n\"+\n",
       "     \"<ul>\\n\"+\n",
       "     \"<li>re-rerun `output_notebook()` to attempt to load from CDN again, or</li>\\n\"+\n",
       "     \"<li>use INLINE resources instead, as so:</li>\\n\"+\n",
       "     \"</ul>\\n\"+\n",
       "     \"<code>\\n\"+\n",
       "     \"from bokeh.resources import INLINE\\n\"+\n",
       "     \"output_notebook(resources=INLINE)\\n\"+\n",
       "     \"</code>\\n\"+\n",
       "     \"</div>\"}};\n",
       "\n",
       "  function display_loaded() {\n",
       "    var el = document.getElementById(\"159075b2-70f8-490d-942c-5bd7c2a99076\");\n",
       "    if (el != null) {\n",
       "      el.textContent = \"BokehJS is loading...\";\n",
       "    }\n",
       "    if (root.Bokeh !== undefined) {\n",
       "      if (el != null) {\n",
       "        el.textContent = \"BokehJS \" + root.Bokeh.version + \" successfully loaded.\";\n",
       "      }\n",
       "    } else if (Date.now() < root._bokeh_timeout) {\n",
       "      setTimeout(display_loaded, 100)\n",
       "    }\n",
       "  }\n",
       "\n",
       "\n",
       "  function run_callbacks() {\n",
       "    try {\n",
       "      root._bokeh_onload_callbacks.forEach(function(callback) { callback() });\n",
       "    }\n",
       "    finally {\n",
       "      delete root._bokeh_onload_callbacks\n",
       "    }\n",
       "    console.info(\"Bokeh: all callbacks have finished\");\n",
       "  }\n",
       "\n",
       "  function load_libs(js_urls, callback) {\n",
       "    root._bokeh_onload_callbacks.push(callback);\n",
       "    if (root._bokeh_is_loading > 0) {\n",
       "      console.log(\"Bokeh: BokehJS is being loaded, scheduling callback at\", now());\n",
       "      return null;\n",
       "    }\n",
       "    if (js_urls == null || js_urls.length === 0) {\n",
       "      run_callbacks();\n",
       "      return null;\n",
       "    }\n",
       "    console.log(\"Bokeh: BokehJS not loaded, scheduling load and callback at\", now());\n",
       "    root._bokeh_is_loading = js_urls.length;\n",
       "    for (var i = 0; i < js_urls.length; i++) {\n",
       "      var url = js_urls[i];\n",
       "      var s = document.createElement('script');\n",
       "      s.src = url;\n",
       "      s.async = false;\n",
       "      s.onreadystatechange = s.onload = function() {\n",
       "        root._bokeh_is_loading--;\n",
       "        if (root._bokeh_is_loading === 0) {\n",
       "          console.log(\"Bokeh: all BokehJS libraries loaded\");\n",
       "          run_callbacks()\n",
       "        }\n",
       "      };\n",
       "      s.onerror = function() {\n",
       "        console.warn(\"failed to load library \" + url);\n",
       "      };\n",
       "      console.log(\"Bokeh: injecting script tag for BokehJS library: \", url);\n",
       "      document.getElementsByTagName(\"head\")[0].appendChild(s);\n",
       "    }\n",
       "  };var element = document.getElementById(\"159075b2-70f8-490d-942c-5bd7c2a99076\");\n",
       "  if (element == null) {\n",
       "    console.log(\"Bokeh: ERROR: autoload.js configured with elementid '159075b2-70f8-490d-942c-5bd7c2a99076' but no matching script tag was found. \")\n",
       "    return false;\n",
       "  }\n",
       "\n",
       "  var js_urls = [\"https://cdn.pydata.org/bokeh/release/bokeh-0.12.10.min.js\", \"https://cdn.pydata.org/bokeh/release/bokeh-widgets-0.12.10.min.js\", \"https://cdn.pydata.org/bokeh/release/bokeh-tables-0.12.10.min.js\", \"https://cdn.pydata.org/bokeh/release/bokeh-gl-0.12.10.min.js\"];\n",
       "\n",
       "  var inline_js = [\n",
       "    function(Bokeh) {\n",
       "      Bokeh.set_log_level(\"info\");\n",
       "    },\n",
       "    \n",
       "    function(Bokeh) {\n",
       "      \n",
       "    },\n",
       "    function(Bokeh) {\n",
       "      console.log(\"Bokeh: injecting CSS: https://cdn.pydata.org/bokeh/release/bokeh-0.12.10.min.css\");\n",
       "      Bokeh.embed.inject_css(\"https://cdn.pydata.org/bokeh/release/bokeh-0.12.10.min.css\");\n",
       "      console.log(\"Bokeh: injecting CSS: https://cdn.pydata.org/bokeh/release/bokeh-widgets-0.12.10.min.css\");\n",
       "      Bokeh.embed.inject_css(\"https://cdn.pydata.org/bokeh/release/bokeh-widgets-0.12.10.min.css\");\n",
       "      console.log(\"Bokeh: injecting CSS: https://cdn.pydata.org/bokeh/release/bokeh-tables-0.12.10.min.css\");\n",
       "      Bokeh.embed.inject_css(\"https://cdn.pydata.org/bokeh/release/bokeh-tables-0.12.10.min.css\");\n",
       "    }\n",
       "  ];\n",
       "\n",
       "  function run_inline_js() {\n",
       "    \n",
       "    if ((root.Bokeh !== undefined) || (force === true)) {\n",
       "      for (var i = 0; i < inline_js.length; i++) {\n",
       "        inline_js[i].call(root, root.Bokeh);\n",
       "      }if (force === true) {\n",
       "        display_loaded();\n",
       "      }} else if (Date.now() < root._bokeh_timeout) {\n",
       "      setTimeout(run_inline_js, 100);\n",
       "    } else if (!root._bokeh_failed_load) {\n",
       "      console.log(\"Bokeh: BokehJS failed to load within specified timeout.\");\n",
       "      root._bokeh_failed_load = true;\n",
       "    } else if (force !== true) {\n",
       "      var cell = $(document.getElementById(\"159075b2-70f8-490d-942c-5bd7c2a99076\")).parents('.cell').data().cell;\n",
       "      cell.output_area.append_execute_result(NB_LOAD_WARNING)\n",
       "    }\n",
       "\n",
       "  }\n",
       "\n",
       "  if (root._bokeh_is_loading === 0) {\n",
       "    console.log(\"Bokeh: BokehJS loaded, going straight to plotting\");\n",
       "    run_inline_js();\n",
       "  } else {\n",
       "    load_libs(js_urls, function() {\n",
       "      console.log(\"Bokeh: BokehJS plotting callback run at\", now());\n",
       "      run_inline_js();\n",
       "    });\n",
       "  }\n",
       "}(window));"
      ],
      "application/vnd.bokehjs_load.v0+json": "\n(function(root) {\n  function now() {\n    return new Date();\n  }\n\n  var force = true;\n\n  if (typeof (root._bokeh_onload_callbacks) === \"undefined\" || force === true) {\n    root._bokeh_onload_callbacks = [];\n    root._bokeh_is_loading = undefined;\n  }\n\n  \n\n  \n  if (typeof (root._bokeh_timeout) === \"undefined\" || force === true) {\n    root._bokeh_timeout = Date.now() + 5000;\n    root._bokeh_failed_load = false;\n  }\n\n  var NB_LOAD_WARNING = {'data': {'text/html':\n     \"<div style='background-color: #fdd'>\\n\"+\n     \"<p>\\n\"+\n     \"BokehJS does not appear to have successfully loaded. If loading BokehJS from CDN, this \\n\"+\n     \"may be due to a slow or bad network connection. Possible fixes:\\n\"+\n     \"</p>\\n\"+\n     \"<ul>\\n\"+\n     \"<li>re-rerun `output_notebook()` to attempt to load from CDN again, or</li>\\n\"+\n     \"<li>use INLINE resources instead, as so:</li>\\n\"+\n     \"</ul>\\n\"+\n     \"<code>\\n\"+\n     \"from bokeh.resources import INLINE\\n\"+\n     \"output_notebook(resources=INLINE)\\n\"+\n     \"</code>\\n\"+\n     \"</div>\"}};\n\n  function display_loaded() {\n    var el = document.getElementById(\"159075b2-70f8-490d-942c-5bd7c2a99076\");\n    if (el != null) {\n      el.textContent = \"BokehJS is loading...\";\n    }\n    if (root.Bokeh !== undefined) {\n      if (el != null) {\n        el.textContent = \"BokehJS \" + root.Bokeh.version + \" successfully loaded.\";\n      }\n    } else if (Date.now() < root._bokeh_timeout) {\n      setTimeout(display_loaded, 100)\n    }\n  }\n\n\n  function run_callbacks() {\n    try {\n      root._bokeh_onload_callbacks.forEach(function(callback) { callback() });\n    }\n    finally {\n      delete root._bokeh_onload_callbacks\n    }\n    console.info(\"Bokeh: all callbacks have finished\");\n  }\n\n  function load_libs(js_urls, callback) {\n    root._bokeh_onload_callbacks.push(callback);\n    if (root._bokeh_is_loading > 0) {\n      console.log(\"Bokeh: BokehJS is being loaded, scheduling callback at\", now());\n      return null;\n    }\n    if (js_urls == null || js_urls.length === 0) {\n      run_callbacks();\n      return null;\n    }\n    console.log(\"Bokeh: BokehJS not loaded, scheduling load and callback at\", now());\n    root._bokeh_is_loading = js_urls.length;\n    for (var i = 0; i < js_urls.length; i++) {\n      var url = js_urls[i];\n      var s = document.createElement('script');\n      s.src = url;\n      s.async = false;\n      s.onreadystatechange = s.onload = function() {\n        root._bokeh_is_loading--;\n        if (root._bokeh_is_loading === 0) {\n          console.log(\"Bokeh: all BokehJS libraries loaded\");\n          run_callbacks()\n        }\n      };\n      s.onerror = function() {\n        console.warn(\"failed to load library \" + url);\n      };\n      console.log(\"Bokeh: injecting script tag for BokehJS library: \", url);\n      document.getElementsByTagName(\"head\")[0].appendChild(s);\n    }\n  };var element = document.getElementById(\"159075b2-70f8-490d-942c-5bd7c2a99076\");\n  if (element == null) {\n    console.log(\"Bokeh: ERROR: autoload.js configured with elementid '159075b2-70f8-490d-942c-5bd7c2a99076' but no matching script tag was found. \")\n    return false;\n  }\n\n  var js_urls = [\"https://cdn.pydata.org/bokeh/release/bokeh-0.12.10.min.js\", \"https://cdn.pydata.org/bokeh/release/bokeh-widgets-0.12.10.min.js\", \"https://cdn.pydata.org/bokeh/release/bokeh-tables-0.12.10.min.js\", \"https://cdn.pydata.org/bokeh/release/bokeh-gl-0.12.10.min.js\"];\n\n  var inline_js = [\n    function(Bokeh) {\n      Bokeh.set_log_level(\"info\");\n    },\n    \n    function(Bokeh) {\n      \n    },\n    function(Bokeh) {\n      console.log(\"Bokeh: injecting CSS: https://cdn.pydata.org/bokeh/release/bokeh-0.12.10.min.css\");\n      Bokeh.embed.inject_css(\"https://cdn.pydata.org/bokeh/release/bokeh-0.12.10.min.css\");\n      console.log(\"Bokeh: injecting CSS: https://cdn.pydata.org/bokeh/release/bokeh-widgets-0.12.10.min.css\");\n      Bokeh.embed.inject_css(\"https://cdn.pydata.org/bokeh/release/bokeh-widgets-0.12.10.min.css\");\n      console.log(\"Bokeh: injecting CSS: https://cdn.pydata.org/bokeh/release/bokeh-tables-0.12.10.min.css\");\n      Bokeh.embed.inject_css(\"https://cdn.pydata.org/bokeh/release/bokeh-tables-0.12.10.min.css\");\n    }\n  ];\n\n  function run_inline_js() {\n    \n    if ((root.Bokeh !== undefined) || (force === true)) {\n      for (var i = 0; i < inline_js.length; i++) {\n        inline_js[i].call(root, root.Bokeh);\n      }if (force === true) {\n        display_loaded();\n      }} else if (Date.now() < root._bokeh_timeout) {\n      setTimeout(run_inline_js, 100);\n    } else if (!root._bokeh_failed_load) {\n      console.log(\"Bokeh: BokehJS failed to load within specified timeout.\");\n      root._bokeh_failed_load = true;\n    } else if (force !== true) {\n      var cell = $(document.getElementById(\"159075b2-70f8-490d-942c-5bd7c2a99076\")).parents('.cell').data().cell;\n      cell.output_area.append_execute_result(NB_LOAD_WARNING)\n    }\n\n  }\n\n  if (root._bokeh_is_loading === 0) {\n    console.log(\"Bokeh: BokehJS loaded, going straight to plotting\");\n    run_inline_js();\n  } else {\n    load_libs(js_urls, function() {\n      console.log(\"Bokeh: BokehJS plotting callback run at\", now());\n      run_inline_js();\n    });\n  }\n}(window));"
     },
     "metadata": {},
     "output_type": "display_data"
    },
    {
     "data": {
      "text/html": [
       "\n",
       "<div class=\"bk-root\">\n",
       "    <div class=\"bk-plotdiv\" id=\"a1fc2213-9bc8-4f83-9332-48c7085f1bc4\"></div>\n",
       "</div>"
      ]
     },
     "metadata": {},
     "output_type": "display_data"
    },
    {
     "data": {
      "application/javascript": [
       "(function(root) {\n",
       "  function embed_document(root) {\n",
       "    var docs_json = {\"a030e7dc-b485-4ca3-9870-0b494fe09dee\":{\"roots\":{\"references\":[{\"attributes\":{},\"id\":\"f72d7d73-0387-40fa-84c7-0b390976122b\",\"type\":\"BasicTickFormatter\"},{\"attributes\":{\"days\":[1,8,15,22]},\"id\":\"d4b87ed6-887f-40dd-b3b2-0db6f21daeaf\",\"type\":\"DaysTicker\"},{\"attributes\":{\"overlay\":{\"id\":\"db1e819d-d361-4a55-a098-f7764a13fb85\",\"type\":\"BoxAnnotation\"}},\"id\":\"205502e2-4f50-4657-9914-55e66765c6db\",\"type\":\"BoxZoomTool\"},{\"attributes\":{},\"id\":\"859e7f59-ec47-433b-91da-2b80a39a9a67\",\"type\":\"LinearScale\"},{\"attributes\":{\"months\":[0,4,8]},\"id\":\"02bd25ea-55c9-4d2d-a7c4-551d6d8db384\",\"type\":\"MonthsTicker\"},{\"attributes\":{},\"id\":\"0c699630-70c4-41a4-8c88-a87cc26b8e5b\",\"type\":\"LinearScale\"},{\"attributes\":{},\"id\":\"b81b34f1-11ae-4c80-a682-5dc9fdbc1cbe\",\"type\":\"YearsTicker\"},{\"attributes\":{\"months\":[0,6]},\"id\":\"4d155bbe-ce57-4827-bcb5-0a2c6ab81350\",\"type\":\"MonthsTicker\"},{\"attributes\":{\"months\":[0,1,2,3,4,5,6,7,8,9,10,11]},\"id\":\"84ee468c-7198-4b3e-880a-296cf36846c5\",\"type\":\"MonthsTicker\"},{\"attributes\":{},\"id\":\"7b7d3be3-4b97-4db0-9c37-9e2c5c7f520b\",\"type\":\"ResetTool\"},{\"attributes\":{\"below\":[{\"id\":\"d1903d12-ab95-4d8c-90d0-68e6c4987249\",\"type\":\"DatetimeAxis\"}],\"left\":[{\"id\":\"33ccd335-8a5f-47ce-b4dd-41b470be37f8\",\"type\":\"LinearAxis\"}],\"plot_height\":350,\"plot_width\":900,\"renderers\":[{\"id\":\"d1903d12-ab95-4d8c-90d0-68e6c4987249\",\"type\":\"DatetimeAxis\"},{\"id\":\"da22f303-3bd9-4e45-9c84-cb05792bad0a\",\"type\":\"Grid\"},{\"id\":\"33ccd335-8a5f-47ce-b4dd-41b470be37f8\",\"type\":\"LinearAxis\"},{\"id\":\"53cffd4b-ddbc-4516-9da7-fdbbcc351e27\",\"type\":\"Grid\"},{\"id\":\"db1e819d-d361-4a55-a098-f7764a13fb85\",\"type\":\"BoxAnnotation\"},{\"id\":\"da0eadb5-4693-4072-ade8-1b7071bd95de\",\"type\":\"GlyphRenderer\"}],\"title\":{\"id\":\"955ca5ac-9e2d-4e45-b71a-47cd1232b2e7\",\"type\":\"Title\"},\"toolbar\":{\"id\":\"90200608-1036-4a64-88ff-c9c85cba91c7\",\"type\":\"Toolbar\"},\"x_range\":{\"id\":\"b1c49b93-30d1-47fb-87b7-e93fe03ebb43\",\"type\":\"DataRange1d\"},\"x_scale\":{\"id\":\"0c699630-70c4-41a4-8c88-a87cc26b8e5b\",\"type\":\"LinearScale\"},\"y_range\":{\"id\":\"6710b890-5399-4d8d-b1bb-177bf307459f\",\"type\":\"DataRange1d\"},\"y_scale\":{\"id\":\"859e7f59-ec47-433b-91da-2b80a39a9a67\",\"type\":\"LinearScale\"}},\"id\":\"c6909133-beff-4ec8-8a89-e9360d585f3f\",\"subtype\":\"Figure\",\"type\":\"Plot\"},{\"attributes\":{\"axis_label\":\"Sales\",\"formatter\":{\"id\":\"f72d7d73-0387-40fa-84c7-0b390976122b\",\"type\":\"BasicTickFormatter\"},\"plot\":{\"id\":\"c6909133-beff-4ec8-8a89-e9360d585f3f\",\"subtype\":\"Figure\",\"type\":\"Plot\"},\"ticker\":{\"id\":\"1f9f6f8b-6a40-48ca-b18c-566a2b375c9b\",\"type\":\"BasicTicker\"}},\"id\":\"33ccd335-8a5f-47ce-b4dd-41b470be37f8\",\"type\":\"LinearAxis\"},{\"attributes\":{\"mantissas\":[1,2,5],\"max_interval\":500.0,\"num_minor_ticks\":0},\"id\":\"c571b378-e9f5-4662-bcb6-fbf96167c6e5\",\"type\":\"AdaptiveTicker\"},{\"attributes\":{\"base\":60,\"mantissas\":[1,2,5,10,15,20,30],\"max_interval\":1800000.0,\"min_interval\":1000.0,\"num_minor_ticks\":0},\"id\":\"ee05db3c-6621-4e00-8275-2dfc6aac0e7f\",\"type\":\"AdaptiveTicker\"},{\"attributes\":{\"days\":[1,15]},\"id\":\"d6cce72c-2a5a-4be3-bce6-e9af553e5cd5\",\"type\":\"DaysTicker\"},{\"attributes\":{},\"id\":\"6d9e6e9c-b808-4000-9a56-0fd082d289b0\",\"type\":\"PanTool\"},{\"attributes\":{},\"id\":\"2d79829e-2047-4a4c-b8bd-7ef67867aebc\",\"type\":\"WheelZoomTool\"},{\"attributes\":{\"base\":24,\"mantissas\":[1,2,4,6,8,12],\"max_interval\":43200000.0,\"min_interval\":3600000.0,\"num_minor_ticks\":0},\"id\":\"77ef906d-8fe0-4e71-8e64-02a645763b8d\",\"type\":\"AdaptiveTicker\"},{\"attributes\":{},\"id\":\"42202aab-f117-46fa-8c0d-c87034fe8d45\",\"type\":\"DatetimeTickFormatter\"},{\"attributes\":{\"callback\":null,\"column_names\":[\"x\",\"y\"],\"data\":{\"x\":{\"__ndarray__\":\"AACAz6Svf8IAAEB9qqV/wgAAQFynnH/CAAAACq2Sf8IAAIAdBYl/wgAAQMsKf3/CAADA3mJ1f8IAAICMaGt/wgAAQDpuYX/CAADATcZXf8IAAID7y01/wgAAAA8kRH/CAADAvCk6f8IAAIBqLzB/wgAAgEksJ3/CAABA9zEdf8IAAMAKihN/wgAAgLiPCX/CAAAAzOf/fsIAAMB57fV+wgAAgCfz637CAAAAO0vifsIAAMDoUNh+wgAAQPyozn7CAAAAqq7EfsIAAMBXtLp+wgAAwDaxsX7CAACA5LanfsIAAAD4Dp5+wgAAwKUUlH7CAABAuWyKfsIAAABncoB+wgAAwBR4dn7CAABAKNBsfsIAAADW1WJ+wgAAgOktWX7C\",\"dtype\":\"float64\",\"shape\":[36]},\"y\":{\"__ndarray__\":\"AAAAAACgcEDNzMzMzDxiQDMzMzMz42ZAMzMzMzPTXUCamZmZmYlmQAAAAAAAEGVAmpmZmZn5bEAAAAAAABBsQJqZmZmZGWhAmpmZmZm5XkAAAAAAAAh1QM3MzMzMPGdAmpmZmZlJaEAAAAAAALBiQDMzMzMzQ2pAzczMzMwUcUDNzMzMzOxnQAAAAAAA8HFAAAAAAABAbECamZmZmflyQGZmZmZmHnJAmpmZmZlZekAAAAAAAIhwQM3MzMzMZHVAMzMzMzM7dUBmZmZmZoZ7QGZmZmZmvnNAzczMzMx0e0DNzMzMzBR5QGZmZmZmVntAAAAAAAD8gUCamZmZmXl5QAAAAAAAUIVAzczMzMy0fUBmZmZmZiqCQDMzMzMzN4RA\",\"dtype\":\"float64\",\"shape\":[36]}}},\"id\":\"e7b8cf56-e1ec-44e5-94b6-22a8610d28ea\",\"type\":\"ColumnDataSource\"},{\"attributes\":{},\"id\":\"2262f1b5-ac4b-4d45-817b-2840d0dc0607\",\"type\":\"SaveTool\"},{\"attributes\":{\"days\":[1,2,3,4,5,6,7,8,9,10,11,12,13,14,15,16,17,18,19,20,21,22,23,24,25,26,27,28,29,30,31]},\"id\":\"7ae655d6-e449-49ec-abb8-7f610d7506b5\",\"type\":\"DaysTicker\"},{\"attributes\":{\"source\":{\"id\":\"e7b8cf56-e1ec-44e5-94b6-22a8610d28ea\",\"type\":\"ColumnDataSource\"}},\"id\":\"8f09da7e-9e7b-44ce-8113-ecbb0d2ba077\",\"type\":\"CDSView\"},{\"attributes\":{},\"id\":\"eb9cb5dd-629d-4392-8bcf-8a8b3bf23e5c\",\"type\":\"HelpTool\"},{\"attributes\":{\"bottom_units\":\"screen\",\"fill_alpha\":{\"value\":0.5},\"fill_color\":{\"value\":\"lightgrey\"},\"left_units\":\"screen\",\"level\":\"overlay\",\"line_alpha\":{\"value\":1.0},\"line_color\":{\"value\":\"black\"},\"line_dash\":[4,4],\"line_width\":{\"value\":2},\"plot\":null,\"render_mode\":\"css\",\"right_units\":\"screen\",\"top_units\":\"screen\"},\"id\":\"db1e819d-d361-4a55-a098-f7764a13fb85\",\"type\":\"BoxAnnotation\"},{\"attributes\":{\"line_alpha\":{\"value\":0.1},\"line_color\":{\"value\":\"#1f77b4\"},\"line_width\":{\"value\":4},\"x\":{\"field\":\"x\"},\"y\":{\"field\":\"y\"}},\"id\":\"68eaa16f-0490-41cf-b8f0-52c53c211f1e\",\"type\":\"Line\"},{\"attributes\":{\"axis_label\":\"Month\",\"formatter\":{\"id\":\"42202aab-f117-46fa-8c0d-c87034fe8d45\",\"type\":\"DatetimeTickFormatter\"},\"plot\":{\"id\":\"c6909133-beff-4ec8-8a89-e9360d585f3f\",\"subtype\":\"Figure\",\"type\":\"Plot\"},\"ticker\":{\"id\":\"cf94ed86-9df4-43a3-81e9-6a3123db8d64\",\"type\":\"DatetimeTicker\"}},\"id\":\"d1903d12-ab95-4d8c-90d0-68e6c4987249\",\"type\":\"DatetimeAxis\"},{\"attributes\":{\"callback\":null},\"id\":\"6710b890-5399-4d8d-b1bb-177bf307459f\",\"type\":\"DataRange1d\"},{\"attributes\":{\"plot\":{\"id\":\"c6909133-beff-4ec8-8a89-e9360d585f3f\",\"subtype\":\"Figure\",\"type\":\"Plot\"},\"ticker\":{\"id\":\"cf94ed86-9df4-43a3-81e9-6a3123db8d64\",\"type\":\"DatetimeTicker\"}},\"id\":\"da22f303-3bd9-4e45-9c84-cb05792bad0a\",\"type\":\"Grid\"},{\"attributes\":{},\"id\":\"1f9f6f8b-6a40-48ca-b18c-566a2b375c9b\",\"type\":\"BasicTicker\"},{\"attributes\":{\"dimension\":1,\"plot\":{\"id\":\"c6909133-beff-4ec8-8a89-e9360d585f3f\",\"subtype\":\"Figure\",\"type\":\"Plot\"},\"ticker\":{\"id\":\"1f9f6f8b-6a40-48ca-b18c-566a2b375c9b\",\"type\":\"BasicTicker\"}},\"id\":\"53cffd4b-ddbc-4516-9da7-fdbbcc351e27\",\"type\":\"Grid\"},{\"attributes\":{\"plot\":null,\"text\":\"Shampoo Sales Dataset Plot\"},\"id\":\"955ca5ac-9e2d-4e45-b71a-47cd1232b2e7\",\"type\":\"Title\"},{\"attributes\":{\"active_drag\":\"auto\",\"active_inspect\":\"auto\",\"active_scroll\":\"auto\",\"active_tap\":\"auto\",\"tools\":[{\"id\":\"6d9e6e9c-b808-4000-9a56-0fd082d289b0\",\"type\":\"PanTool\"},{\"id\":\"2d79829e-2047-4a4c-b8bd-7ef67867aebc\",\"type\":\"WheelZoomTool\"},{\"id\":\"205502e2-4f50-4657-9914-55e66765c6db\",\"type\":\"BoxZoomTool\"},{\"id\":\"2262f1b5-ac4b-4d45-817b-2840d0dc0607\",\"type\":\"SaveTool\"},{\"id\":\"7b7d3be3-4b97-4db0-9c37-9e2c5c7f520b\",\"type\":\"ResetTool\"},{\"id\":\"eb9cb5dd-629d-4392-8bcf-8a8b3bf23e5c\",\"type\":\"HelpTool\"}]},\"id\":\"90200608-1036-4a64-88ff-c9c85cba91c7\",\"type\":\"Toolbar\"},{\"attributes\":{\"days\":[1,4,7,10,13,16,19,22,25,28]},\"id\":\"4e94ee5c-4faa-4e8e-984b-a8f5a013af6a\",\"type\":\"DaysTicker\"},{\"attributes\":{\"num_minor_ticks\":5,\"tickers\":[{\"id\":\"c571b378-e9f5-4662-bcb6-fbf96167c6e5\",\"type\":\"AdaptiveTicker\"},{\"id\":\"ee05db3c-6621-4e00-8275-2dfc6aac0e7f\",\"type\":\"AdaptiveTicker\"},{\"id\":\"77ef906d-8fe0-4e71-8e64-02a645763b8d\",\"type\":\"AdaptiveTicker\"},{\"id\":\"7ae655d6-e449-49ec-abb8-7f610d7506b5\",\"type\":\"DaysTicker\"},{\"id\":\"4e94ee5c-4faa-4e8e-984b-a8f5a013af6a\",\"type\":\"DaysTicker\"},{\"id\":\"d4b87ed6-887f-40dd-b3b2-0db6f21daeaf\",\"type\":\"DaysTicker\"},{\"id\":\"d6cce72c-2a5a-4be3-bce6-e9af553e5cd5\",\"type\":\"DaysTicker\"},{\"id\":\"84ee468c-7198-4b3e-880a-296cf36846c5\",\"type\":\"MonthsTicker\"},{\"id\":\"8497492e-62aa-4610-82e8-519cc45eaf2a\",\"type\":\"MonthsTicker\"},{\"id\":\"02bd25ea-55c9-4d2d-a7c4-551d6d8db384\",\"type\":\"MonthsTicker\"},{\"id\":\"4d155bbe-ce57-4827-bcb5-0a2c6ab81350\",\"type\":\"MonthsTicker\"},{\"id\":\"b81b34f1-11ae-4c80-a682-5dc9fdbc1cbe\",\"type\":\"YearsTicker\"}]},\"id\":\"cf94ed86-9df4-43a3-81e9-6a3123db8d64\",\"type\":\"DatetimeTicker\"},{\"attributes\":{\"months\":[0,2,4,6,8,10]},\"id\":\"8497492e-62aa-4610-82e8-519cc45eaf2a\",\"type\":\"MonthsTicker\"},{\"attributes\":{\"callback\":null},\"id\":\"b1c49b93-30d1-47fb-87b7-e93fe03ebb43\",\"type\":\"DataRange1d\"},{\"attributes\":{\"data_source\":{\"id\":\"e7b8cf56-e1ec-44e5-94b6-22a8610d28ea\",\"type\":\"ColumnDataSource\"},\"glyph\":{\"id\":\"989a4cde-030c-48f5-9c94-55bcdae5fe34\",\"type\":\"Line\"},\"hover_glyph\":null,\"muted_glyph\":null,\"nonselection_glyph\":{\"id\":\"68eaa16f-0490-41cf-b8f0-52c53c211f1e\",\"type\":\"Line\"},\"selection_glyph\":null,\"view\":{\"id\":\"8f09da7e-9e7b-44ce-8113-ecbb0d2ba077\",\"type\":\"CDSView\"}},\"id\":\"da0eadb5-4693-4072-ade8-1b7071bd95de\",\"type\":\"GlyphRenderer\"},{\"attributes\":{\"line_color\":{\"value\":\"#1f77b4\"},\"line_width\":{\"value\":4},\"x\":{\"field\":\"x\"},\"y\":{\"field\":\"y\"}},\"id\":\"989a4cde-030c-48f5-9c94-55bcdae5fe34\",\"type\":\"Line\"}],\"root_ids\":[\"c6909133-beff-4ec8-8a89-e9360d585f3f\"]},\"title\":\"Bokeh Application\",\"version\":\"0.12.10\"}};\n",
       "    var render_items = [{\"docid\":\"a030e7dc-b485-4ca3-9870-0b494fe09dee\",\"elementid\":\"a1fc2213-9bc8-4f83-9332-48c7085f1bc4\",\"modelid\":\"c6909133-beff-4ec8-8a89-e9360d585f3f\"}];\n",
       "\n",
       "    root.Bokeh.embed.embed_items(docs_json, render_items);\n",
       "  }\n",
       "\n",
       "  if (root.Bokeh !== undefined) {\n",
       "    embed_document(root);\n",
       "  } else {\n",
       "    var attempts = 0;\n",
       "    var timer = setInterval(function(root) {\n",
       "      if (root.Bokeh !== undefined) {\n",
       "        embed_document(root);\n",
       "        clearInterval(timer);\n",
       "      }\n",
       "      attempts++;\n",
       "      if (attempts > 100) {\n",
       "        console.log(\"Bokeh: ERROR: Unable to embed document because BokehJS library is missing\")\n",
       "        clearInterval(timer);\n",
       "      }\n",
       "    }, 10, root)\n",
       "  }\n",
       "})(window);"
      ],
      "application/vnd.bokehjs_exec.v0+json": ""
     },
     "metadata": {
      "application/vnd.bokehjs_exec.v0+json": {
       "id": "c6909133-beff-4ec8-8a89-e9360d585f3f"
      }
     },
     "output_type": "display_data"
    }
   ],
   "source": [
    "output_notebook(resources=None, verbose=False, hide_banner=False, load_timeout=5000, notebook_type='jupyter')\n",
    "p = figure(x_axis_type=\"datetime\", plot_width=900, plot_height=350,title=\"Shampoo Sales Dataset Plot\",x_axis_label=\"Month\",y_axis_label=\"Sales\")\n",
    "p.line(series.index,series, line_width=4)\n",
    "show(p)"
   ]
  },
  {
   "cell_type": "markdown",
   "metadata": {},
   "source": [
    "### auto correlation plot"
   ]
  },
  {
   "cell_type": "code",
   "execution_count": 78,
   "metadata": {},
   "outputs": [
    {
     "name": "stderr",
     "output_type": "stream",
     "text": [
      "C:\\Users\\Ramaraju\\Anaconda3\\lib\\site-packages\\ipykernel_launcher.py:1: FutureWarning: 'pandas.tools.plotting.autocorrelation_plot' is deprecated, import 'pandas.plotting.autocorrelation_plot' instead.\n",
      "  \"\"\"Entry point for launching an IPython kernel.\n"
     ]
    },
    {
     "data": {
      "image/png": "[encoded data removed]",
      "text/plain": [
       "<matplotlib.figure.Figure at 0xf3f2cf0>"
      ]
     },
     "metadata": {},
     "output_type": "display_data"
    }
   ],
   "source": [
    "autocorrelation_plot(series)\n",
    "pyplot.show()"
   ]
  },
  {
   "cell_type": "markdown",
   "metadata": {},
   "source": [
    "there is a possitive correlation between 10 - 13 lags,so that i am using 5 as AR model parameter "
   ]
  },
  {
   "cell_type": "markdown",
   "metadata": {},
   "source": [
    "#### AR Model"
   ]
  },
  {
   "cell_type": "code",
   "execution_count": 79,
   "metadata": {},
   "outputs": [
    {
     "name": "stderr",
     "output_type": "stream",
     "text": [
      "C:\\Users\\Ramaraju\\Anaconda3\\lib\\site-packages\\statsmodels\\tsa\\kalmanf\\kalmanfilter.py:646: FutureWarning: Conversion of the second argument of issubdtype from `float` to `np.floating` is deprecated. In future, it will be treated as `np.float64 == np.dtype(float).type`.\n",
      "  if issubdtype(paramsdtype, float):\n",
      "C:\\Users\\Ramaraju\\Anaconda3\\lib\\site-packages\\statsmodels\\tsa\\kalmanf\\kalmanfilter.py:650: FutureWarning: Conversion of the second argument of issubdtype from `complex` to `np.complexfloating` is deprecated. In future, it will be treated as `np.complex128 == np.dtype(complex).type`.\n",
      "  elif issubdtype(paramsdtype, complex):\n"
     ]
    },
    {
     "name": "stdout",
     "output_type": "stream",
     "text": [
      "                             ARIMA Model Results                              \n",
      "==============================================================================\n",
      "Dep. Variable:                D.Sales   No. Observations:                   35\n",
      "Model:                 ARIMA(5, 1, 0)   Log Likelihood                -196.170\n",
      "Method:                       css-mle   S.D. of innovations             64.241\n",
      "Date:                Fri, 13 Apr 2018   AIC                            406.340\n",
      "Time:                        05:27:55   BIC                            417.227\n",
      "Sample:                    02-01-1901   HQIC                           410.098\n",
      "                         - 12-01-1903                                         \n",
      "=================================================================================\n",
      "                    coef    std err          z      P>|z|      [0.025      0.975]\n",
      "---------------------------------------------------------------------------------\n",
      "const            12.0649      3.652      3.304      0.003       4.908      19.222\n",
      "ar.L1.D.Sales    -1.1082      0.183     -6.063      0.000      -1.466      -0.750\n",
      "ar.L2.D.Sales    -0.6203      0.282     -2.203      0.036      -1.172      -0.068\n",
      "ar.L3.D.Sales    -0.3606      0.295     -1.222      0.231      -0.939       0.218\n",
      "ar.L4.D.Sales    -0.1252      0.280     -0.447      0.658      -0.674       0.424\n",
      "ar.L5.D.Sales     0.1289      0.191      0.673      0.506      -0.246       0.504\n",
      "                                    Roots                                    \n",
      "=============================================================================\n",
      "                 Real           Imaginary           Modulus         Frequency\n",
      "-----------------------------------------------------------------------------\n",
      "AR.1           -1.0617           -0.5064j            1.1763           -0.4292\n",
      "AR.2           -1.0617           +0.5064j            1.1763            0.4292\n",
      "AR.3            0.0816           -1.3804j            1.3828           -0.2406\n",
      "AR.4            0.0816           +1.3804j            1.3828            0.2406\n",
      "AR.5            2.9315           -0.0000j            2.9315           -0.0000\n",
      "-----------------------------------------------------------------------------\n"
     ]
    }
   ],
   "source": [
    "# fit model\n",
    "model = ARIMA(series, order=(5,1,0))\n",
    "model_fit = model.fit(disp=0)\n",
    "print(model_fit.summary())"
   ]
  },
  {
   "cell_type": "code",
   "execution_count": 83,
   "metadata": {},
   "outputs": [
    {
     "name": "stderr",
     "output_type": "stream",
     "text": [
      "C:\\Users\\Ramaraju\\Anaconda3\\lib\\site-packages\\statsmodels\\tsa\\kalmanf\\kalmanfilter.py:577: FutureWarning: Conversion of the second argument of issubdtype from `float` to `np.floating` is deprecated. In future, it will be treated as `np.float64 == np.dtype(float).type`.\n",
      "  if issubdtype(paramsdtype, float):\n"
     ]
    },
    {
     "data": {
      "image/png": "[encoded data removed]",
      "text/plain": [
       "<matplotlib.figure.Figure at 0xf4bf170>"
      ]
     },
     "metadata": {},
     "output_type": "display_data"
    },
    {
     "data": {
      "image/png": "[encoded data removed]",
      "text/plain": [
       "<matplotlib.figure.Figure at 0xf5b17f0>"
      ]
     },
     "metadata": {},
     "output_type": "display_data"
    },
    {
     "name": "stdout",
     "output_type": "stream",
     "text": [
      "                0\n",
      "count   35.000000\n",
      "mean    -5.495268\n",
      "std     68.132878\n",
      "min   -133.296645\n",
      "25%    -42.477958\n",
      "50%     -7.186657\n",
      "75%     24.748293\n",
      "max    133.237920\n"
     ]
    }
   ],
   "source": [
    "# plot residual errors\n",
    "residuals = pd.DataFrame(model_fit.resid)\n",
    "residuals.plot()\n",
    "pyplot.show()\n",
    "residuals.plot(kind='kde')\n",
    "pyplot.show()\n",
    "print(residuals.describe())"
   ]
  },
  {
   "cell_type": "markdown",
   "metadata": {},
   "source": [
    "#### Model Testing & mean squared error score (MSE)"
   ]
  },
  {
   "cell_type": "code",
   "execution_count": 91,
   "metadata": {},
   "outputs": [
    {
     "name": "stderr",
     "output_type": "stream",
     "text": [
      "C:\\Users\\Ramaraju\\Anaconda3\\lib\\site-packages\\statsmodels\\tsa\\kalmanf\\kalmanfilter.py:646: FutureWarning: Conversion of the second argument of issubdtype from `float` to `np.floating` is deprecated. In future, it will be treated as `np.float64 == np.dtype(float).type`.\n",
      "  if issubdtype(paramsdtype, float):\n",
      "C:\\Users\\Ramaraju\\Anaconda3\\lib\\site-packages\\statsmodels\\tsa\\kalmanf\\kalmanfilter.py:650: FutureWarning: Conversion of the second argument of issubdtype from `complex` to `np.complexfloating` is deprecated. In future, it will be treated as `np.complex128 == np.dtype(complex).type`.\n",
      "  elif issubdtype(paramsdtype, complex):\n",
      "C:\\Users\\Ramaraju\\Anaconda3\\lib\\site-packages\\statsmodels\\tsa\\kalmanf\\kalmanfilter.py:577: FutureWarning: Conversion of the second argument of issubdtype from `float` to `np.floating` is deprecated. In future, it will be treated as `np.float64 == np.dtype(float).type`.\n",
      "  if issubdtype(paramsdtype, float):\n"
     ]
    },
    {
     "name": "stdout",
     "output_type": "stream",
     "text": [
      "predicted=349.117664, expected=342.300000\n",
      "predicted=306.512978, expected=339.700000\n",
      "predicted=387.376483, expected=440.400000\n",
      "predicted=348.154219, expected=315.900000\n",
      "predicted=386.308851, expected=439.300000\n",
      "predicted=356.082041, expected=401.300000\n",
      "predicted=446.379504, expected=437.400000\n",
      "predicted=394.737297, expected=575.500000\n",
      "predicted=434.915548, expected=407.600000\n",
      "predicted=507.923425, expected=682.000000\n",
      "predicted=435.482824, expected=475.300000\n",
      "predicted=652.743783, expected=581.300000\n",
      "predicted=546.343425, expected=646.900000\n",
      "Test MSE: 6958.326\n"
     ]
    },
    {
     "data": {
      "text/html": [
       "\n",
       "<div class=\"bk-root\">\n",
       "    <div class=\"bk-plotdiv\" id=\"742a30eb-44d0-4e4b-a437-9742a4adb665\"></div>\n",
       "</div>"
      ]
     },
     "metadata": {},
     "output_type": "display_data"
    },
    {
     "data": {
      "application/javascript": [
       "(function(root) {\n",
       "  function embed_document(root) {\n",
       "    var docs_json = {\"9197614e-fa53-4f8e-8cf8-b0cb27993ee7\":{\"roots\":{\"references\":[{\"attributes\":{\"axis_label\":\"Sales\",\"formatter\":{\"id\":\"0449577f-5768-43d0-9fe2-d55bfa3d5b22\",\"type\":\"BasicTickFormatter\"},\"plot\":{\"id\":\"78414542-dc1e-402a-8820-692adad0fe97\",\"subtype\":\"Figure\",\"type\":\"Plot\"},\"ticker\":{\"id\":\"a20457dd-5520-4813-9f0c-35c6ad03d8c5\",\"type\":\"BasicTicker\"}},\"id\":\"f88a8de1-8669-4da6-9c03-1f22871f3d84\",\"type\":\"LinearAxis\"},{\"attributes\":{\"data_source\":{\"id\":\"d513df06-097e-42da-8dbe-a7aaac70bfce\",\"type\":\"ColumnDataSource\"},\"glyph\":{\"id\":\"9afbbf8e-5d03-48c9-80b7-93721f2126ce\",\"type\":\"Line\"},\"hover_glyph\":null,\"muted_glyph\":null,\"nonselection_glyph\":{\"id\":\"23f104d7-5f8f-4c3a-a4e9-ac9408d25f12\",\"type\":\"Line\"},\"selection_glyph\":null,\"view\":{\"id\":\"4d0ecd8e-1b06-406a-a989-95b5fd10636b\",\"type\":\"CDSView\"}},\"id\":\"8468f5f3-1aff-4a3a-97a1-e486d928ce7e\",\"type\":\"GlyphRenderer\"},{\"attributes\":{\"source\":{\"id\":\"d513df06-097e-42da-8dbe-a7aaac70bfce\",\"type\":\"ColumnDataSource\"}},\"id\":\"4d0ecd8e-1b06-406a-a989-95b5fd10636b\",\"type\":\"CDSView\"},{\"attributes\":{},\"id\":\"e0bb44fb-41fe-4956-a3ef-1121dad89b66\",\"type\":\"LinearScale\"},{\"attributes\":{\"callback\":null},\"id\":\"2ac1e3d6-d818-411f-bc6c-4e0d9d60211c\",\"type\":\"DataRange1d\"},{\"attributes\":{\"callback\":null},\"id\":\"877e24cd-cd7c-4ade-8805-ec9f87c8d2db\",\"type\":\"DataRange1d\"},{\"attributes\":{},\"id\":\"5d963535-c60b-4a71-b98c-5f3367508d5e\",\"type\":\"BasicTickFormatter\"},{\"attributes\":{},\"id\":\"4c7b4227-2ade-43ec-84b6-fea37e0def5c\",\"type\":\"LinearScale\"},{\"attributes\":{},\"id\":\"7c93ea28-a85d-4d13-a10d-c19091c6b3cf\",\"type\":\"PanTool\"},{\"attributes\":{},\"id\":\"0449577f-5768-43d0-9fe2-d55bfa3d5b22\",\"type\":\"BasicTickFormatter\"},{\"attributes\":{\"overlay\":{\"id\":\"c2602043-fbc5-4679-b9df-336006f3768f\",\"type\":\"BoxAnnotation\"}},\"id\":\"a33dbbbf-719d-4469-a013-751b091bd01e\",\"type\":\"BoxZoomTool\"},{\"attributes\":{},\"id\":\"cdbbac9b-5c03-4041-8c46-444fc5b1656c\",\"type\":\"WheelZoomTool\"},{\"attributes\":{\"line_alpha\":{\"value\":0.1},\"line_color\":{\"value\":\"#1f77b4\"},\"line_width\":{\"value\":4},\"x\":{\"field\":\"x\"},\"y\":{\"field\":\"y\"}},\"id\":\"23f104d7-5f8f-4c3a-a4e9-ac9408d25f12\",\"type\":\"Line\"},{\"attributes\":{\"line_color\":{\"value\":\"red\"},\"line_width\":{\"value\":4},\"x\":{\"field\":\"x\"},\"y\":{\"field\":\"y\"}},\"id\":\"9afbbf8e-5d03-48c9-80b7-93721f2126ce\",\"type\":\"Line\"},{\"attributes\":{\"bottom_units\":\"screen\",\"fill_alpha\":{\"value\":0.5},\"fill_color\":{\"value\":\"lightgrey\"},\"left_units\":\"screen\",\"level\":\"overlay\",\"line_alpha\":{\"value\":1.0},\"line_color\":{\"value\":\"black\"},\"line_dash\":[4,4],\"line_width\":{\"value\":2},\"plot\":null,\"render_mode\":\"css\",\"right_units\":\"screen\",\"top_units\":\"screen\"},\"id\":\"c2602043-fbc5-4679-b9df-336006f3768f\",\"type\":\"BoxAnnotation\"},{\"attributes\":{\"line_alpha\":{\"value\":0.1},\"line_color\":{\"value\":\"#1f77b4\"},\"line_width\":{\"value\":4},\"x\":{\"field\":\"x\"},\"y\":{\"field\":\"y\"}},\"id\":\"dd420dd2-18f7-4b2c-bed0-0460f53d884e\",\"type\":\"Line\"},{\"attributes\":{},\"id\":\"a64e58bb-0a6c-43e4-ac34-66d6e98e9a1d\",\"type\":\"ResetTool\"},{\"attributes\":{\"axis_label\":\"Index\",\"formatter\":{\"id\":\"5d963535-c60b-4a71-b98c-5f3367508d5e\",\"type\":\"BasicTickFormatter\"},\"plot\":{\"id\":\"78414542-dc1e-402a-8820-692adad0fe97\",\"subtype\":\"Figure\",\"type\":\"Plot\"},\"ticker\":{\"id\":\"50f694f3-46a8-453d-9ec1-f25b90376b95\",\"type\":\"BasicTicker\"}},\"id\":\"83272142-0b2c-4fb9-8b50-be83e4223113\",\"type\":\"LinearAxis\"},{\"attributes\":{\"callback\":null,\"column_names\":[\"x\",\"y\"],\"data\":{\"x\":[0,1,2,3,4,5,6,7,8,9,10,11,12],\"y\":{\"__ndarray__\":\"zczMzMxkdUAzMzMzMzt1QGZmZmZmhntAZmZmZma+c0DNzMzMzHR7QM3MzMzMFHlAZmZmZmZWe0AAAAAAAPyBQJqZmZmZeXlAAAAAAABQhUDNzMzMzLR9QGZmZmZmKoJAMzMzMzM3hEA=\",\"dtype\":\"float64\",\"shape\":[13]}}},\"id\":\"3e34b2fc-1f37-4b22-bfe6-8337b847e0d5\",\"type\":\"ColumnDataSource\"},{\"attributes\":{\"dimension\":1,\"plot\":{\"id\":\"78414542-dc1e-402a-8820-692adad0fe97\",\"subtype\":\"Figure\",\"type\":\"Plot\"},\"ticker\":{\"id\":\"a20457dd-5520-4813-9f0c-35c6ad03d8c5\",\"type\":\"BasicTicker\"}},\"id\":\"e584e40d-63c0-4808-8262-62ee16bc5e65\",\"type\":\"Grid\"},{\"attributes\":{},\"id\":\"50f694f3-46a8-453d-9ec1-f25b90376b95\",\"type\":\"BasicTicker\"},{\"attributes\":{},\"id\":\"5a7e2af5-9d6a-4d37-bb9b-db34f84703c7\",\"type\":\"SaveTool\"},{\"attributes\":{\"plot\":{\"id\":\"78414542-dc1e-402a-8820-692adad0fe97\",\"subtype\":\"Figure\",\"type\":\"Plot\"},\"ticker\":{\"id\":\"50f694f3-46a8-453d-9ec1-f25b90376b95\",\"type\":\"BasicTicker\"}},\"id\":\"0de7c620-cabf-4ca1-87ec-2f295abdeb32\",\"type\":\"Grid\"},{\"attributes\":{\"data_source\":{\"id\":\"3e34b2fc-1f37-4b22-bfe6-8337b847e0d5\",\"type\":\"ColumnDataSource\"},\"glyph\":{\"id\":\"ab52dc65-1364-49ed-99af-c6b14db2f414\",\"type\":\"Line\"},\"hover_glyph\":null,\"muted_glyph\":null,\"nonselection_glyph\":{\"id\":\"dd420dd2-18f7-4b2c-bed0-0460f53d884e\",\"type\":\"Line\"},\"selection_glyph\":null,\"view\":{\"id\":\"a8c6d12b-eeb2-4c9f-90e8-693729af82e2\",\"type\":\"CDSView\"}},\"id\":\"6bde7ed7-336c-4dac-878b-a80cdfa65b56\",\"type\":\"GlyphRenderer\"},{\"attributes\":{\"source\":{\"id\":\"3e34b2fc-1f37-4b22-bfe6-8337b847e0d5\",\"type\":\"ColumnDataSource\"}},\"id\":\"a8c6d12b-eeb2-4c9f-90e8-693729af82e2\",\"type\":\"CDSView\"},{\"attributes\":{},\"id\":\"a20457dd-5520-4813-9f0c-35c6ad03d8c5\",\"type\":\"BasicTicker\"},{\"attributes\":{\"plot\":null,\"text\":\"Test VS Predictions\"},\"id\":\"6f90f754-047a-4913-89c2-81fcef5dde45\",\"type\":\"Title\"},{\"attributes\":{\"below\":[{\"id\":\"83272142-0b2c-4fb9-8b50-be83e4223113\",\"type\":\"LinearAxis\"}],\"left\":[{\"id\":\"f88a8de1-8669-4da6-9c03-1f22871f3d84\",\"type\":\"LinearAxis\"}],\"plot_height\":350,\"plot_width\":900,\"renderers\":[{\"id\":\"83272142-0b2c-4fb9-8b50-be83e4223113\",\"type\":\"LinearAxis\"},{\"id\":\"0de7c620-cabf-4ca1-87ec-2f295abdeb32\",\"type\":\"Grid\"},{\"id\":\"f88a8de1-8669-4da6-9c03-1f22871f3d84\",\"type\":\"LinearAxis\"},{\"id\":\"e584e40d-63c0-4808-8262-62ee16bc5e65\",\"type\":\"Grid\"},{\"id\":\"c2602043-fbc5-4679-b9df-336006f3768f\",\"type\":\"BoxAnnotation\"},{\"id\":\"6bde7ed7-336c-4dac-878b-a80cdfa65b56\",\"type\":\"GlyphRenderer\"},{\"id\":\"8468f5f3-1aff-4a3a-97a1-e486d928ce7e\",\"type\":\"GlyphRenderer\"}],\"title\":{\"id\":\"6f90f754-047a-4913-89c2-81fcef5dde45\",\"type\":\"Title\"},\"toolbar\":{\"id\":\"667d7ca5-8485-4a1f-917a-ac39be81cd4d\",\"type\":\"Toolbar\"},\"x_range\":{\"id\":\"2ac1e3d6-d818-411f-bc6c-4e0d9d60211c\",\"type\":\"DataRange1d\"},\"x_scale\":{\"id\":\"4c7b4227-2ade-43ec-84b6-fea37e0def5c\",\"type\":\"LinearScale\"},\"y_range\":{\"id\":\"877e24cd-cd7c-4ade-8805-ec9f87c8d2db\",\"type\":\"DataRange1d\"},\"y_scale\":{\"id\":\"e0bb44fb-41fe-4956-a3ef-1121dad89b66\",\"type\":\"LinearScale\"}},\"id\":\"78414542-dc1e-402a-8820-692adad0fe97\",\"subtype\":\"Figure\",\"type\":\"Plot\"},{\"attributes\":{\"line_color\":{\"value\":\"#1f77b4\"},\"line_width\":{\"value\":4},\"x\":{\"field\":\"x\"},\"y\":{\"field\":\"y\"}},\"id\":\"ab52dc65-1364-49ed-99af-c6b14db2f414\",\"type\":\"Line\"},{\"attributes\":{\"callback\":null,\"column_names\":[\"x\",\"y\"],\"data\":{\"x\":[0,1,2,3,4,5,6,7,8,9,10,11,12],\"y\":[{\"__ndarray__\":\"0NqK8+HRdUA=\",\"dtype\":\"float64\",\"shape\":[1]},{\"__ndarray__\":\"ZJ5IKDUoc0A=\",\"dtype\":\"float64\",\"shape\":[1]},{\"__ndarray__\":\"fcTAEgY2eEA=\",\"dtype\":\"float64\",\"shape\":[1]},{\"__ndarray__\":\"a5Z+rnfCdUA=\",\"dtype\":\"float64\",\"shape\":[1]},{\"__ndarray__\":\"vi+2DfEkeEA=\",\"dtype\":\"float64\",\"shape\":[1]},{\"__ndarray__\":\"NBu1CVBBdkA=\",\"dtype\":\"float64\",\"shape\":[1]},{\"__ndarray__\":\"AwqIchLme0A=\",\"dtype\":\"float64\",\"shape\":[1]},{\"__ndarray__\":\"JEiq98ureEA=\",\"dtype\":\"float64\",\"shape\":[1]},{\"__ndarray__\":\"BvcaFqYue0A=\",\"dtype\":\"float64\",\"shape\":[1]},{\"__ndarray__\":\"1pzlWMa+f0A=\",\"dtype\":\"float64\",\"shape\":[1]},{\"__ndarray__\":\"OiUuprk3e0A=\",\"dtype\":\"float64\",\"shape\":[1]},{\"__ndarray__\":\"REmHRPNlhEA=\",\"dtype\":\"float64\",\"shape\":[1]},{\"__ndarray__\":\"CQrTVb8SgUA=\",\"dtype\":\"float64\",\"shape\":[1]}]}},\"id\":\"d513df06-097e-42da-8dbe-a7aaac70bfce\",\"type\":\"ColumnDataSource\"},{\"attributes\":{\"active_drag\":\"auto\",\"active_inspect\":\"auto\",\"active_scroll\":\"auto\",\"active_tap\":\"auto\",\"tools\":[{\"id\":\"7c93ea28-a85d-4d13-a10d-c19091c6b3cf\",\"type\":\"PanTool\"},{\"id\":\"cdbbac9b-5c03-4041-8c46-444fc5b1656c\",\"type\":\"WheelZoomTool\"},{\"id\":\"a33dbbbf-719d-4469-a013-751b091bd01e\",\"type\":\"BoxZoomTool\"},{\"id\":\"5a7e2af5-9d6a-4d37-bb9b-db34f84703c7\",\"type\":\"SaveTool\"},{\"id\":\"a64e58bb-0a6c-43e4-ac34-66d6e98e9a1d\",\"type\":\"ResetTool\"},{\"id\":\"b7851528-fba9-4d7b-8f29-190f0d6d07fc\",\"type\":\"HelpTool\"}]},\"id\":\"667d7ca5-8485-4a1f-917a-ac39be81cd4d\",\"type\":\"Toolbar\"},{\"attributes\":{},\"id\":\"b7851528-fba9-4d7b-8f29-190f0d6d07fc\",\"type\":\"HelpTool\"}],\"root_ids\":[\"78414542-dc1e-402a-8820-692adad0fe97\"]},\"title\":\"Bokeh Application\",\"version\":\"0.12.10\"}};\n",
       "    var render_items = [{\"docid\":\"9197614e-fa53-4f8e-8cf8-b0cb27993ee7\",\"elementid\":\"742a30eb-44d0-4e4b-a437-9742a4adb665\",\"modelid\":\"78414542-dc1e-402a-8820-692adad0fe97\"}];\n",
       "\n",
       "    root.Bokeh.embed.embed_items(docs_json, render_items);\n",
       "  }\n",
       "\n",
       "  if (root.Bokeh !== undefined) {\n",
       "    embed_document(root);\n",
       "  } else {\n",
       "    var attempts = 0;\n",
       "    var timer = setInterval(function(root) {\n",
       "      if (root.Bokeh !== undefined) {\n",
       "        embed_document(root);\n",
       "        clearInterval(timer);\n",
       "      }\n",
       "      attempts++;\n",
       "      if (attempts > 100) {\n",
       "        console.log(\"Bokeh: ERROR: Unable to embed document because BokehJS library is missing\")\n",
       "        clearInterval(timer);\n",
       "      }\n",
       "    }, 10, root)\n",
       "  }\n",
       "})(window);"
      ],
      "application/vnd.bokehjs_exec.v0+json": ""
     },
     "metadata": {
      "application/vnd.bokehjs_exec.v0+json": {
       "id": "78414542-dc1e-402a-8820-692adad0fe97"
      }
     },
     "output_type": "display_data"
    }
   ],
   "source": [
    "X = series.values\n",
    "size = int(len(X) * 0.66)\n",
    "train, test = X[0:size], X[size:len(X)]\n",
    "history = [x for x in train]\n",
    "predictions = list()\n",
    "for t in range(len(test)):\n",
    "    model = ARIMA(history, order=(5,1,0))\n",
    "    model_fit = model.fit(disp=0)\n",
    "    output = model_fit.forecast()\n",
    "    yhat = output[0]\n",
    "    predictions.append(yhat)\n",
    "    obs = test[t]\n",
    "    history.append(obs)\n",
    "    print('predicted=%f, expected=%f' % (yhat, obs))\n",
    "error = mean_squared_error(test, predictions)\n",
    "print('Test MSE: %.3f' % error)\n",
    "# plot\n",
    "\n",
    "\n",
    "p = figure( plot_width=900, plot_height=350,title=\"Test VS Predictions\",x_axis_label=\"Index\",y_axis_label=\"Sales\")\n",
    "p.line([x for x in range(len(test))],test, line_width=4)\n",
    "p.line([x for x in range(len(predictions))],predictions, line_width=4,line_color='red')\n",
    "show(p)"
   ]
  },
  {
   "cell_type": "code",
   "execution_count": null,
   "metadata": {
    "collapsed": true
   },
   "outputs": [],
   "source": []
  }
 ],
 "metadata": {
  "kernelspec": {
   "display_name": "Python 3",
   "language": "python",
   "name": "python3"
  },
  "language_info": {
   "codemirror_mode": {
    "name": "ipython",
    "version": 3
   },
   "file_extension": ".py",
   "mimetype": "text/x-python",
   "name": "python",
   "nbconvert_exporter": "python",
   "pygments_lexer": "ipython3",
   "version": "3.6.3"
  }
 },
 "nbformat": 4,
 "nbformat_minor": 2
}
